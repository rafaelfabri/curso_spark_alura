{
 "cells": [
  {
   "cell_type": "code",
   "execution_count": 1,
   "id": "ca13ec3b",
   "metadata": {},
   "outputs": [],
   "source": [
    "import pandas as pd\n",
    "pd.set_option('display.max_columns', None)"
   ]
  },
  {
   "cell_type": "code",
   "execution_count": 2,
   "id": "f46a34c8",
   "metadata": {},
   "outputs": [],
   "source": [
    "from pyspark.sql import SparkSession\n",
    "import os\n",
    "import findspark\n",
    "\n",
    "os.environ['SPARK_HOME'] = '/home/rafaelfabrichimidt/spark-3.3.2-bin-hadoop2'\n",
    "\n",
    "findspark.init()"
   ]
  },
  {
   "cell_type": "code",
   "execution_count": 3,
   "id": "ca0df0af",
   "metadata": {},
   "outputs": [
    {
     "name": "stdout",
     "output_type": "stream",
     "text": [
      "23/07/02 15:39:22 WARN Utils: Your hostname, pop-os resolves to a loopback address: 127.0.1.1; using 192.168.0.109 instead (on interface wlp3s0)\n",
      "23/07/02 15:39:22 WARN Utils: Set SPARK_LOCAL_IP if you need to bind to another address\n"
     ]
    },
    {
     "name": "stderr",
     "output_type": "stream",
     "text": [
      "Setting default log level to \"WARN\".\n",
      "To adjust logging level use sc.setLogLevel(newLevel). For SparkR, use setLogLevel(newLevel).\n"
     ]
    },
    {
     "name": "stdout",
     "output_type": "stream",
     "text": [
      "23/07/02 15:39:24 WARN NativeCodeLoader: Unable to load native-hadoop library for your platform... using builtin-java classes where applicable\n",
      "23/07/02 15:39:30 WARN Utils: Service 'SparkUI' could not bind on port 4040. Attempting port 4041.\n"
     ]
    }
   ],
   "source": [
    "spark = SparkSession.builder\\\n",
    "            .master('local[*]')\\\n",
    "            .appName('Iniciando')\\\n",
    "            .getOrCreate()"
   ]
  },
  {
   "cell_type": "code",
   "execution_count": 4,
   "id": "fae6e42f",
   "metadata": {},
   "outputs": [
    {
     "name": "stderr",
     "output_type": "stream",
     "text": [
      "                                                                                \r"
     ]
    }
   ],
   "source": [
    "df = spark.read.json('/home/rafaelfabrichimidt/Documentos/Projetos/Python/codigos/Curso_Spark/curso_codigo/Curso_3/dados/imoveis.json')"
   ]
  },
  {
   "cell_type": "code",
   "execution_count": 6,
   "id": "e2479563",
   "metadata": {},
   "outputs": [
    {
     "name": "stderr",
     "output_type": "stream",
     "text": [
      "\r",
      "[Stage 2:>                                                          (0 + 1) / 1]\r"
     ]
    },
    {
     "name": "stdout",
     "output_type": "stream",
     "text": [
      "+--------------------------+-----------------------------------------------------------------------------------------------------------------------------------------------------------------+\n",
      "|ident                     |listing                                                                                                                                                          |\n",
      "+--------------------------+-----------------------------------------------------------------------------------------------------------------------------------------------------------------+\n",
      "|{775564-BOJSMVON, Website}|{{Rio de Janeiro, {-22.909429, -43.413557}, Taquara, Zona Oeste}, {0, 0, 0, 1, 0, 62, 0, 0, 62}, {45000, {150, 0}}, {Outros, Residencial}}                       |\n",
      "|{660895-AUENKNYY, Website}|{{Rio de Janeiro, {-22.869698, -43.509141}, Santíssimo, Zona Oeste}, {1, 2, 0, 1, 0, 0, 0, 0, 44}, {45000, {120, 0}}, {Apartamento, Residencial}}                |\n",
      "|{751522-JESYFEQL, Website}|{{Rio de Janeiro, {-22.986927, -43.646786}, Pedra de Guaratiba, Zona Oeste}, {0, 0, 0, 0, 0, 132, 0, 0, 132}, {50000, {100, 0}}, {Outros, Residencial}}          |\n",
      "|{714052-GAAEWYKS, Website}|{{Rio de Janeiro, {-22.881977, -43.330818}, Cascadura, Zona Norte}, {1, 0, 0, 0, 0, 32, 3, 0, 32}, {45000, {468, 346}}, {Outros, Comercial}}                     |\n",
      "|{568886-ZIBFOMCC, Website}|{{Rio de Janeiro, {-23.027653, -43.480742}, Recreio dos Bandeirantes, Zona Oeste}, {2, 3, 3, 1, 1, 0, 2, 4, 60}, {50000, {400, 120}}, {Apartamento, Residencial}}|\n",
      "|{526755-OBLTYTEN, Website}|{{Rio de Janeiro, {-22.966059, -43.571183}, Guaratiba, Zona Oeste}, {0, 0, 0, 0, 0, 200, 0, 0, 200}, {50000, {0, null}}, {Outros, Residencial}}                  |\n",
      "|{593569-CJLMNFGW, Website}|{{Rio de Janeiro, {-22.939028, -43.3453}, Freguesia (Jacarepaguá), Zona Oeste}, {1, 0, 0, 0, 0, 25, 2, 0, 25}, {50000, {801, 211}}, {Outros, Comercial}}         |\n",
      "|{989181-RYJOLMCU, Website}|{{Rio de Janeiro, {-22.841509, -43.278855}, Penha, Zona Norte}, {1, 0, 0, 0, 0, 23, 0, 0, 23}, {50000, {230, null}}, {Outros, Comercial}}                        |\n",
      "|{145372-EZKAKSWM, Website}|{{Rio de Janeiro, {-22.835609, -43.392253}, Ricardo de Albuquerque, Zona Norte}, {0, 0, 0, 0, 0, 60, 0, 0, 60}, {45000, {null, null}}, {Outros, Comercial}}      |\n",
      "|{792086-NWNQTDYL, Website}|{{Rio de Janeiro, {-22.885306, -43.253044}, Jacarezinho, Zona Norte}, {1, 1, 0, 1, 0, 35, 0, 0, 33}, {45336, {0, 0}}, {Apartamento, Residencial}}                |\n",
      "|{339622-MNZGLKTZ, Website}|{{Rio de Janeiro, {-22.990425, -43.635505}, Guaratiba, Zona Oeste}, {0, 0, 0, 0, 0, 120, 0, 0, 120}, {45000, {0, 0}}, {Outros, Residencial}}                     |\n",
      "|{952338-SVULQMXR, Website}|{{Rio de Janeiro, {-22.877982, -43.651456}, Santa Cruz, Zona Oeste}, {0, 0, 0, 0, 0, 468, 0, 0, 468}, {45000, {0, 0}}, {Outros, Residencial}}                    |\n",
      "|{570439-LDICQOXZ, Website}|{{Rio de Janeiro, {-22.998183, -43.504337}, Vargem Grande, Zona Oeste}, {0, 0, 0, 0, 0, 180, 1, 0, 180}, {50000, {0, 0}}, {Outros, Residencial}}                 |\n",
      "|{684023-YTBNKLLO, Website}|{{Rio de Janeiro, {-22.843794, -43.512464}, Bangu, Zona Oeste}, {0, 0, 0, 0, 0, 128, 0, 0, 128}, {50000, {0, 0}}, {Outros, Residencial}}                         |\n",
      "|{629412-VKUMMAVR, Website}|{{Rio de Janeiro, {-22.91077, -43.37182}, Tanque, Zona Oeste}, {0, 0, 0, 0, 0, 82, 1, 0, 82}, {45000, {300, 0}}, {Outros, Residencial}}                          |\n",
      "|{041590-HMJIRKDX, Website}|{{Rio de Janeiro, {-22.910099, -43.17797}, Centro, Zona Central}, {0, 0, 0, 1, 0, 5, 0, 0, 5}, {45000, {0, 0}}, {Outros, Comercial}}                             |\n",
      "|{870098-XTRYJAGY, Website}|{{Rio de Janeiro, {-22.867219, -43.335067}, Madureira, Zona Norte}, {1, 0, 0, 0, 0, 350, 0, 0, 350}, {50000, {0, 1600}}, {Outros, Comercial}}                    |\n",
      "|{951104-MACIAPIS, Website}|{{Rio de Janeiro, {-22.897014, -43.201575}, Santo Cristo, Zona Central}, {2, 3, 20, 1, 1, 0, 20, 19, 70}, {45000, {350, 120}}, {Apartamento, Residencial}}       |\n",
      "|{375665-GHMFEZXX, Website}|{{Rio de Janeiro, {-22.902419, -43.20952}, Santo Cristo, Zona Central}, {2, 3, 20, 1, 1, 0, 20, 19, 70}, {50000, {350, 120}}, {Apartamento, Residencial}}        |\n",
      "|{441711-LRTWHRUA, Website}|{{Rio de Janeiro, {-22.989852, -43.623097}, Pedra de Guaratiba, Zona Oeste}, {1, 1, 0, 0, 0, 45, 2, 0, 37}, {50000, {0, 0}}, {Apartamento, Residencial}}         |\n",
      "+--------------------------+-----------------------------------------------------------------------------------------------------------------------------------------------------------------+\n",
      "only showing top 20 rows\n",
      "\n"
     ]
    },
    {
     "name": "stderr",
     "output_type": "stream",
     "text": [
      "\r",
      "                                                                                \r"
     ]
    }
   ],
   "source": [
    "df.show(truncate = False)"
   ]
  },
  {
   "cell_type": "code",
   "execution_count": null,
   "id": "28487a40",
   "metadata": {},
   "outputs": [],
   "source": [
    "df.limit(5).toPandas()"
   ]
  },
  {
   "cell_type": "code",
   "execution_count": 7,
   "id": "9674758f",
   "metadata": {},
   "outputs": [
    {
     "data": {
      "text/plain": [
       "73615"
      ]
     },
     "execution_count": 7,
     "metadata": {},
     "output_type": "execute_result"
    }
   ],
   "source": [
    "df.count()"
   ]
  },
  {
   "cell_type": "code",
   "execution_count": 11,
   "id": "5f1535dd",
   "metadata": {},
   "outputs": [
    {
     "name": "stdout",
     "output_type": "stream",
     "text": [
      "root\n",
      " |-- ident: struct (nullable = true)\n",
      " |    |-- customerID: string (nullable = true)\n",
      " |    |-- source: string (nullable = true)\n",
      " |-- listing: struct (nullable = true)\n",
      " |    |-- address: struct (nullable = true)\n",
      " |    |    |-- city: string (nullable = true)\n",
      " |    |    |-- location: struct (nullable = true)\n",
      " |    |    |    |-- lat: double (nullable = true)\n",
      " |    |    |    |-- lon: double (nullable = true)\n",
      " |    |    |-- neighborhood: string (nullable = true)\n",
      " |    |    |-- zone: string (nullable = true)\n",
      " |    |-- features: struct (nullable = true)\n",
      " |    |    |-- bathrooms: long (nullable = true)\n",
      " |    |    |-- bedrooms: long (nullable = true)\n",
      " |    |    |-- floors: long (nullable = true)\n",
      " |    |    |-- parkingSpaces: long (nullable = true)\n",
      " |    |    |-- suites: long (nullable = true)\n",
      " |    |    |-- totalAreas: string (nullable = true)\n",
      " |    |    |-- unitFloor: long (nullable = true)\n",
      " |    |    |-- unitsOnTheFloor: long (nullable = true)\n",
      " |    |    |-- usableAreas: string (nullable = true)\n",
      " |    |-- prices: struct (nullable = true)\n",
      " |    |    |-- price: string (nullable = true)\n",
      " |    |    |-- tax: struct (nullable = true)\n",
      " |    |    |    |-- condo: string (nullable = true)\n",
      " |    |    |    |-- iptu: string (nullable = true)\n",
      " |    |-- types: struct (nullable = true)\n",
      " |    |    |-- unit: string (nullable = true)\n",
      " |    |    |-- usage: string (nullable = true)\n",
      "\n"
     ]
    }
   ],
   "source": [
    "df.printSchema()"
   ]
  },
  {
   "cell_type": "code",
   "execution_count": 14,
   "id": "b39914d0",
   "metadata": {},
   "outputs": [
    {
     "name": "stderr",
     "output_type": "stream",
     "text": [
      "\r",
      "[Stage 8:===================================================>       (7 + 1) / 8]\r"
     ]
    },
    {
     "name": "stdout",
     "output_type": "stream",
     "text": [
      "+--------------------+--------------------+\n",
      "|               ident|             listing|\n",
      "+--------------------+--------------------+\n",
      "|{775564-BOJSMVON,...|{{Rio de Janeiro,...|\n",
      "|{660895-AUENKNYY,...|{{Rio de Janeiro,...|\n",
      "|{751522-JESYFEQL,...|{{Rio de Janeiro,...|\n",
      "|{714052-GAAEWYKS,...|{{Rio de Janeiro,...|\n",
      "|{568886-ZIBFOMCC,...|{{Rio de Janeiro,...|\n",
      "+--------------------+--------------------+\n",
      "\n"
     ]
    },
    {
     "name": "stderr",
     "output_type": "stream",
     "text": [
      "\r",
      "                                                                                \r"
     ]
    }
   ],
   "source": [
    "df.select('ident', 'listing').limit(5).show()"
   ]
  },
  {
   "cell_type": "code",
   "execution_count": 15,
   "id": "6e12ebbb",
   "metadata": {},
   "outputs": [
    {
     "name": "stdout",
     "output_type": "stream",
     "text": [
      "+---------------+\n",
      "|     CustomerID|\n",
      "+---------------+\n",
      "|775564-BOJSMVON|\n",
      "|660895-AUENKNYY|\n",
      "|751522-JESYFEQL|\n",
      "|714052-GAAEWYKS|\n",
      "|568886-ZIBFOMCC|\n",
      "+---------------+\n",
      "\n"
     ]
    }
   ],
   "source": [
    "df.select('ident.CustomerID').limit(5).show()"
   ]
  },
  {
   "cell_type": "code",
   "execution_count": 16,
   "id": "283008d0",
   "metadata": {},
   "outputs": [
    {
     "name": "stdout",
     "output_type": "stream",
     "text": [
      "+---------------+-------+\n",
      "|     customerID| source|\n",
      "+---------------+-------+\n",
      "|775564-BOJSMVON|Website|\n",
      "|660895-AUENKNYY|Website|\n",
      "|751522-JESYFEQL|Website|\n",
      "|714052-GAAEWYKS|Website|\n",
      "|568886-ZIBFOMCC|Website|\n",
      "+---------------+-------+\n",
      "\n"
     ]
    }
   ],
   "source": [
    "df.select('ident.*').limit(5).show()"
   ]
  },
  {
   "cell_type": "code",
   "execution_count": 30,
   "id": "1608c47b",
   "metadata": {},
   "outputs": [
    {
     "name": "stderr",
     "output_type": "stream",
     "text": [
      "\r",
      "[Stage 16:==================================================>       (7 + 1) / 8]\r"
     ]
    },
    {
     "name": "stdout",
     "output_type": "stream",
     "text": [
      "+---------------+--------------------+--------------------+-------------------+--------------------+\n",
      "|     CustomerID|             address|            features|             prices|               types|\n",
      "+---------------+--------------------+--------------------+-------------------+--------------------+\n",
      "|775564-BOJSMVON|{Rio de Janeiro, ...|{0, 0, 0, 1, 0, 6...|  {45000, {150, 0}}|{Outros, Residenc...|\n",
      "|660895-AUENKNYY|{Rio de Janeiro, ...|{1, 2, 0, 1, 0, 0...|  {45000, {120, 0}}|{Apartamento, Res...|\n",
      "|751522-JESYFEQL|{Rio de Janeiro, ...|{0, 0, 0, 0, 0, 1...|  {50000, {100, 0}}|{Outros, Residenc...|\n",
      "|714052-GAAEWYKS|{Rio de Janeiro, ...|{1, 0, 0, 0, 0, 3...|{45000, {468, 346}}| {Outros, Comercial}|\n",
      "|568886-ZIBFOMCC|{Rio de Janeiro, ...|{2, 3, 3, 1, 1, 0...|{50000, {400, 120}}|{Apartamento, Res...|\n",
      "+---------------+--------------------+--------------------+-------------------+--------------------+\n",
      "\n"
     ]
    },
    {
     "name": "stderr",
     "output_type": "stream",
     "text": [
      "\r",
      "                                                                                \r"
     ]
    }
   ],
   "source": [
    "df.select('ident.CustomerID', 'listing.*').limit(5).show()"
   ]
  },
  {
   "cell_type": "code",
   "execution_count": 31,
   "id": "ce5ba82e",
   "metadata": {},
   "outputs": [
    {
     "name": "stderr",
     "output_type": "stream",
     "text": [
      "\r",
      "[Stage 19:==================================================>       (7 + 1) / 8]\r"
     ]
    },
    {
     "name": "stdout",
     "output_type": "stream",
     "text": [
      "+---------------+--------------------+\n",
      "|     CustomerID|             address|\n",
      "+---------------+--------------------+\n",
      "|775564-BOJSMVON|{Rio de Janeiro, ...|\n",
      "|660895-AUENKNYY|{Rio de Janeiro, ...|\n",
      "|751522-JESYFEQL|{Rio de Janeiro, ...|\n",
      "|714052-GAAEWYKS|{Rio de Janeiro, ...|\n",
      "|568886-ZIBFOMCC|{Rio de Janeiro, ...|\n",
      "+---------------+--------------------+\n",
      "\n"
     ]
    },
    {
     "name": "stderr",
     "output_type": "stream",
     "text": [
      "\r",
      "                                                                                \r"
     ]
    }
   ],
   "source": [
    "df.select('ident.CustomerID', 'listing.address').limit(5).show()"
   ]
  },
  {
   "cell_type": "code",
   "execution_count": 32,
   "id": "bdb3eca8",
   "metadata": {},
   "outputs": [
    {
     "name": "stdout",
     "output_type": "stream",
     "text": [
      "+---------------+--------------+--------------------+--------------------+----------+\n",
      "|     CustomerID|          city|            location|        neighborhood|      zone|\n",
      "+---------------+--------------+--------------------+--------------------+----------+\n",
      "|775564-BOJSMVON|Rio de Janeiro|{-22.909429, -43....|             Taquara|Zona Oeste|\n",
      "|660895-AUENKNYY|Rio de Janeiro|{-22.869698, -43....|          Santíssimo|Zona Oeste|\n",
      "|751522-JESYFEQL|Rio de Janeiro|{-22.986927, -43....|  Pedra de Guaratiba|Zona Oeste|\n",
      "|714052-GAAEWYKS|Rio de Janeiro|{-22.881977, -43....|           Cascadura|Zona Norte|\n",
      "|568886-ZIBFOMCC|Rio de Janeiro|{-23.027653, -43....|Recreio dos Bande...|Zona Oeste|\n",
      "+---------------+--------------+--------------------+--------------------+----------+\n",
      "\n"
     ]
    },
    {
     "name": "stderr",
     "output_type": "stream",
     "text": [
      "\r",
      "[Stage 22:==================================================>       (7 + 1) / 8]\r",
      "\r",
      "                                                                                \r"
     ]
    }
   ],
   "source": [
    "df.select('ident.CustomerID', 'listing.address.*').limit(5).show()"
   ]
  },
  {
   "cell_type": "code",
   "execution_count": 36,
   "id": "fafc79c8",
   "metadata": {},
   "outputs": [
    {
     "name": "stderr",
     "output_type": "stream",
     "text": [
      "                                                                                \r"
     ]
    },
    {
     "data": {
      "text/html": [
       "<div>\n",
       "<style scoped>\n",
       "    .dataframe tbody tr th:only-of-type {\n",
       "        vertical-align: middle;\n",
       "    }\n",
       "\n",
       "    .dataframe tbody tr th {\n",
       "        vertical-align: top;\n",
       "    }\n",
       "\n",
       "    .dataframe thead th {\n",
       "        text-align: right;\n",
       "    }\n",
       "</style>\n",
       "<table border=\"1\" class=\"dataframe\">\n",
       "  <thead>\n",
       "    <tr style=\"text-align: right;\">\n",
       "      <th></th>\n",
       "      <th>CustomerID</th>\n",
       "      <th>city</th>\n",
       "      <th>location</th>\n",
       "      <th>neighborhood</th>\n",
       "      <th>zone</th>\n",
       "      <th>bathrooms</th>\n",
       "      <th>bedrooms</th>\n",
       "      <th>floors</th>\n",
       "      <th>parkingSpaces</th>\n",
       "      <th>suites</th>\n",
       "      <th>totalAreas</th>\n",
       "      <th>unitFloor</th>\n",
       "      <th>unitsOnTheFloor</th>\n",
       "      <th>usableAreas</th>\n",
       "      <th>price</th>\n",
       "      <th>tax</th>\n",
       "      <th>unit</th>\n",
       "      <th>usage</th>\n",
       "    </tr>\n",
       "  </thead>\n",
       "  <tbody>\n",
       "    <tr>\n",
       "      <th>0</th>\n",
       "      <td>775564-BOJSMVON</td>\n",
       "      <td>Rio de Janeiro</td>\n",
       "      <td>(-22.909429, -43.413557)</td>\n",
       "      <td>Taquara</td>\n",
       "      <td>Zona Oeste</td>\n",
       "      <td>0</td>\n",
       "      <td>0</td>\n",
       "      <td>0</td>\n",
       "      <td>1</td>\n",
       "      <td>0</td>\n",
       "      <td>62</td>\n",
       "      <td>0</td>\n",
       "      <td>0</td>\n",
       "      <td>62</td>\n",
       "      <td>45000</td>\n",
       "      <td>(150, 0)</td>\n",
       "      <td>Outros</td>\n",
       "      <td>Residencial</td>\n",
       "    </tr>\n",
       "    <tr>\n",
       "      <th>1</th>\n",
       "      <td>660895-AUENKNYY</td>\n",
       "      <td>Rio de Janeiro</td>\n",
       "      <td>(-22.869698, -43.509141)</td>\n",
       "      <td>Santíssimo</td>\n",
       "      <td>Zona Oeste</td>\n",
       "      <td>1</td>\n",
       "      <td>2</td>\n",
       "      <td>0</td>\n",
       "      <td>1</td>\n",
       "      <td>0</td>\n",
       "      <td>0</td>\n",
       "      <td>0</td>\n",
       "      <td>0</td>\n",
       "      <td>44</td>\n",
       "      <td>45000</td>\n",
       "      <td>(120, 0)</td>\n",
       "      <td>Apartamento</td>\n",
       "      <td>Residencial</td>\n",
       "    </tr>\n",
       "    <tr>\n",
       "      <th>2</th>\n",
       "      <td>751522-JESYFEQL</td>\n",
       "      <td>Rio de Janeiro</td>\n",
       "      <td>(-22.986927, -43.646786)</td>\n",
       "      <td>Pedra de Guaratiba</td>\n",
       "      <td>Zona Oeste</td>\n",
       "      <td>0</td>\n",
       "      <td>0</td>\n",
       "      <td>0</td>\n",
       "      <td>0</td>\n",
       "      <td>0</td>\n",
       "      <td>132</td>\n",
       "      <td>0</td>\n",
       "      <td>0</td>\n",
       "      <td>132</td>\n",
       "      <td>50000</td>\n",
       "      <td>(100, 0)</td>\n",
       "      <td>Outros</td>\n",
       "      <td>Residencial</td>\n",
       "    </tr>\n",
       "    <tr>\n",
       "      <th>3</th>\n",
       "      <td>714052-GAAEWYKS</td>\n",
       "      <td>Rio de Janeiro</td>\n",
       "      <td>(-22.881977, -43.330818)</td>\n",
       "      <td>Cascadura</td>\n",
       "      <td>Zona Norte</td>\n",
       "      <td>1</td>\n",
       "      <td>0</td>\n",
       "      <td>0</td>\n",
       "      <td>0</td>\n",
       "      <td>0</td>\n",
       "      <td>32</td>\n",
       "      <td>3</td>\n",
       "      <td>0</td>\n",
       "      <td>32</td>\n",
       "      <td>45000</td>\n",
       "      <td>(468, 346)</td>\n",
       "      <td>Outros</td>\n",
       "      <td>Comercial</td>\n",
       "    </tr>\n",
       "    <tr>\n",
       "      <th>4</th>\n",
       "      <td>568886-ZIBFOMCC</td>\n",
       "      <td>Rio de Janeiro</td>\n",
       "      <td>(-23.027653, -43.480742)</td>\n",
       "      <td>Recreio dos Bandeirantes</td>\n",
       "      <td>Zona Oeste</td>\n",
       "      <td>2</td>\n",
       "      <td>3</td>\n",
       "      <td>3</td>\n",
       "      <td>1</td>\n",
       "      <td>1</td>\n",
       "      <td>0</td>\n",
       "      <td>2</td>\n",
       "      <td>4</td>\n",
       "      <td>60</td>\n",
       "      <td>50000</td>\n",
       "      <td>(400, 120)</td>\n",
       "      <td>Apartamento</td>\n",
       "      <td>Residencial</td>\n",
       "    </tr>\n",
       "  </tbody>\n",
       "</table>\n",
       "</div>"
      ],
      "text/plain": [
       "        CustomerID            city                  location  \\\n",
       "0  775564-BOJSMVON  Rio de Janeiro  (-22.909429, -43.413557)   \n",
       "1  660895-AUENKNYY  Rio de Janeiro  (-22.869698, -43.509141)   \n",
       "2  751522-JESYFEQL  Rio de Janeiro  (-22.986927, -43.646786)   \n",
       "3  714052-GAAEWYKS  Rio de Janeiro  (-22.881977, -43.330818)   \n",
       "4  568886-ZIBFOMCC  Rio de Janeiro  (-23.027653, -43.480742)   \n",
       "\n",
       "               neighborhood        zone  bathrooms  bedrooms  floors  \\\n",
       "0                   Taquara  Zona Oeste          0         0       0   \n",
       "1                Santíssimo  Zona Oeste          1         2       0   \n",
       "2        Pedra de Guaratiba  Zona Oeste          0         0       0   \n",
       "3                 Cascadura  Zona Norte          1         0       0   \n",
       "4  Recreio dos Bandeirantes  Zona Oeste          2         3       3   \n",
       "\n",
       "   parkingSpaces  suites totalAreas  unitFloor  unitsOnTheFloor usableAreas  \\\n",
       "0              1       0         62          0                0          62   \n",
       "1              1       0          0          0                0          44   \n",
       "2              0       0        132          0                0         132   \n",
       "3              0       0         32          3                0          32   \n",
       "4              1       1          0          2                4          60   \n",
       "\n",
       "   price         tax         unit        usage  \n",
       "0  45000    (150, 0)       Outros  Residencial  \n",
       "1  45000    (120, 0)  Apartamento  Residencial  \n",
       "2  50000    (100, 0)       Outros  Residencial  \n",
       "3  45000  (468, 346)       Outros    Comercial  \n",
       "4  50000  (400, 120)  Apartamento  Residencial  "
      ]
     },
     "execution_count": 36,
     "metadata": {},
     "output_type": "execute_result"
    }
   ],
   "source": [
    "df.select('ident.CustomerID', \n",
    "          'listing.address.*', \n",
    "          'listing.features.*', \n",
    "          'listing.prices.*', \n",
    "          'listing.types.*').limit(5).toPandas()"
   ]
  },
  {
   "cell_type": "code",
   "execution_count": 37,
   "id": "b972a585",
   "metadata": {},
   "outputs": [
    {
     "name": "stderr",
     "output_type": "stream",
     "text": [
      "\r",
      "[Stage 32:>                                                         (0 + 1) / 1]\r",
      "\r",
      "                                                                                \r"
     ]
    },
    {
     "data": {
      "text/html": [
       "<div>\n",
       "<style scoped>\n",
       "    .dataframe tbody tr th:only-of-type {\n",
       "        vertical-align: middle;\n",
       "    }\n",
       "\n",
       "    .dataframe tbody tr th {\n",
       "        vertical-align: top;\n",
       "    }\n",
       "\n",
       "    .dataframe thead th {\n",
       "        text-align: right;\n",
       "    }\n",
       "</style>\n",
       "<table border=\"1\" class=\"dataframe\">\n",
       "  <thead>\n",
       "    <tr style=\"text-align: right;\">\n",
       "      <th></th>\n",
       "      <th>CustomerID</th>\n",
       "      <th>city</th>\n",
       "      <th>location</th>\n",
       "      <th>neighborhood</th>\n",
       "      <th>zone</th>\n",
       "      <th>bathrooms</th>\n",
       "      <th>bedrooms</th>\n",
       "      <th>floors</th>\n",
       "      <th>parkingSpaces</th>\n",
       "      <th>suites</th>\n",
       "      <th>totalAreas</th>\n",
       "      <th>unitFloor</th>\n",
       "      <th>unitsOnTheFloor</th>\n",
       "      <th>usableAreas</th>\n",
       "      <th>condo</th>\n",
       "      <th>iptu</th>\n",
       "      <th>price</th>\n",
       "      <th>unit</th>\n",
       "      <th>usage</th>\n",
       "    </tr>\n",
       "  </thead>\n",
       "  <tbody>\n",
       "    <tr>\n",
       "      <th>0</th>\n",
       "      <td>775564-BOJSMVON</td>\n",
       "      <td>Rio de Janeiro</td>\n",
       "      <td>(-22.909429, -43.413557)</td>\n",
       "      <td>Taquara</td>\n",
       "      <td>Zona Oeste</td>\n",
       "      <td>0</td>\n",
       "      <td>0</td>\n",
       "      <td>0</td>\n",
       "      <td>1</td>\n",
       "      <td>0</td>\n",
       "      <td>62</td>\n",
       "      <td>0</td>\n",
       "      <td>0</td>\n",
       "      <td>62</td>\n",
       "      <td>150</td>\n",
       "      <td>0</td>\n",
       "      <td>45000</td>\n",
       "      <td>Outros</td>\n",
       "      <td>Residencial</td>\n",
       "    </tr>\n",
       "    <tr>\n",
       "      <th>1</th>\n",
       "      <td>660895-AUENKNYY</td>\n",
       "      <td>Rio de Janeiro</td>\n",
       "      <td>(-22.869698, -43.509141)</td>\n",
       "      <td>Santíssimo</td>\n",
       "      <td>Zona Oeste</td>\n",
       "      <td>1</td>\n",
       "      <td>2</td>\n",
       "      <td>0</td>\n",
       "      <td>1</td>\n",
       "      <td>0</td>\n",
       "      <td>0</td>\n",
       "      <td>0</td>\n",
       "      <td>0</td>\n",
       "      <td>44</td>\n",
       "      <td>120</td>\n",
       "      <td>0</td>\n",
       "      <td>45000</td>\n",
       "      <td>Apartamento</td>\n",
       "      <td>Residencial</td>\n",
       "    </tr>\n",
       "    <tr>\n",
       "      <th>2</th>\n",
       "      <td>751522-JESYFEQL</td>\n",
       "      <td>Rio de Janeiro</td>\n",
       "      <td>(-22.986927, -43.646786)</td>\n",
       "      <td>Pedra de Guaratiba</td>\n",
       "      <td>Zona Oeste</td>\n",
       "      <td>0</td>\n",
       "      <td>0</td>\n",
       "      <td>0</td>\n",
       "      <td>0</td>\n",
       "      <td>0</td>\n",
       "      <td>132</td>\n",
       "      <td>0</td>\n",
       "      <td>0</td>\n",
       "      <td>132</td>\n",
       "      <td>100</td>\n",
       "      <td>0</td>\n",
       "      <td>50000</td>\n",
       "      <td>Outros</td>\n",
       "      <td>Residencial</td>\n",
       "    </tr>\n",
       "    <tr>\n",
       "      <th>3</th>\n",
       "      <td>714052-GAAEWYKS</td>\n",
       "      <td>Rio de Janeiro</td>\n",
       "      <td>(-22.881977, -43.330818)</td>\n",
       "      <td>Cascadura</td>\n",
       "      <td>Zona Norte</td>\n",
       "      <td>1</td>\n",
       "      <td>0</td>\n",
       "      <td>0</td>\n",
       "      <td>0</td>\n",
       "      <td>0</td>\n",
       "      <td>32</td>\n",
       "      <td>3</td>\n",
       "      <td>0</td>\n",
       "      <td>32</td>\n",
       "      <td>468</td>\n",
       "      <td>346</td>\n",
       "      <td>45000</td>\n",
       "      <td>Outros</td>\n",
       "      <td>Comercial</td>\n",
       "    </tr>\n",
       "    <tr>\n",
       "      <th>4</th>\n",
       "      <td>568886-ZIBFOMCC</td>\n",
       "      <td>Rio de Janeiro</td>\n",
       "      <td>(-23.027653, -43.480742)</td>\n",
       "      <td>Recreio dos Bandeirantes</td>\n",
       "      <td>Zona Oeste</td>\n",
       "      <td>2</td>\n",
       "      <td>3</td>\n",
       "      <td>3</td>\n",
       "      <td>1</td>\n",
       "      <td>1</td>\n",
       "      <td>0</td>\n",
       "      <td>2</td>\n",
       "      <td>4</td>\n",
       "      <td>60</td>\n",
       "      <td>400</td>\n",
       "      <td>120</td>\n",
       "      <td>50000</td>\n",
       "      <td>Apartamento</td>\n",
       "      <td>Residencial</td>\n",
       "    </tr>\n",
       "  </tbody>\n",
       "</table>\n",
       "</div>"
      ],
      "text/plain": [
       "        CustomerID            city                  location  \\\n",
       "0  775564-BOJSMVON  Rio de Janeiro  (-22.909429, -43.413557)   \n",
       "1  660895-AUENKNYY  Rio de Janeiro  (-22.869698, -43.509141)   \n",
       "2  751522-JESYFEQL  Rio de Janeiro  (-22.986927, -43.646786)   \n",
       "3  714052-GAAEWYKS  Rio de Janeiro  (-22.881977, -43.330818)   \n",
       "4  568886-ZIBFOMCC  Rio de Janeiro  (-23.027653, -43.480742)   \n",
       "\n",
       "               neighborhood        zone  bathrooms  bedrooms  floors  \\\n",
       "0                   Taquara  Zona Oeste          0         0       0   \n",
       "1                Santíssimo  Zona Oeste          1         2       0   \n",
       "2        Pedra de Guaratiba  Zona Oeste          0         0       0   \n",
       "3                 Cascadura  Zona Norte          1         0       0   \n",
       "4  Recreio dos Bandeirantes  Zona Oeste          2         3       3   \n",
       "\n",
       "   parkingSpaces  suites totalAreas  unitFloor  unitsOnTheFloor usableAreas  \\\n",
       "0              1       0         62          0                0          62   \n",
       "1              1       0          0          0                0          44   \n",
       "2              0       0        132          0                0         132   \n",
       "3              0       0         32          3                0          32   \n",
       "4              1       1          0          2                4          60   \n",
       "\n",
       "  condo iptu  price         unit        usage  \n",
       "0   150    0  45000       Outros  Residencial  \n",
       "1   120    0  45000  Apartamento  Residencial  \n",
       "2   100    0  50000       Outros  Residencial  \n",
       "3   468  346  45000       Outros    Comercial  \n",
       "4   400  120  50000  Apartamento  Residencial  "
      ]
     },
     "execution_count": 37,
     "metadata": {},
     "output_type": "execute_result"
    }
   ],
   "source": [
    "df.select('ident.CustomerID', \n",
    "          'listing.address.*', \n",
    "          'listing.features.*', \n",
    "          'listing.prices.tax.*',\n",
    "          'listing.prices.price', \n",
    "          'listing.types.*').limit(5).toPandas()"
   ]
  },
  {
   "cell_type": "code",
   "execution_count": 143,
   "id": "1a8bdd07",
   "metadata": {},
   "outputs": [],
   "source": [
    "df = df.select('ident.CustomerID', \n",
    "              'listing.address.*', \n",
    "              'listing.features.*', \n",
    "              'listing.prices.tax.*',\n",
    "              'listing.prices.price', \n",
    "              'listing.types.*')\\\n",
    "       .drop('location', 'city', 'totalAreas')"
   ]
  },
  {
   "cell_type": "code",
   "execution_count": 41,
   "id": "984c7123",
   "metadata": {},
   "outputs": [
    {
     "name": "stderr",
     "output_type": "stream",
     "text": [
      "\r",
      "[Stage 33:>                                                         (0 + 1) / 1]\r",
      "\r",
      "                                                                                \r"
     ]
    },
    {
     "data": {
      "text/html": [
       "<div>\n",
       "<style scoped>\n",
       "    .dataframe tbody tr th:only-of-type {\n",
       "        vertical-align: middle;\n",
       "    }\n",
       "\n",
       "    .dataframe tbody tr th {\n",
       "        vertical-align: top;\n",
       "    }\n",
       "\n",
       "    .dataframe thead th {\n",
       "        text-align: right;\n",
       "    }\n",
       "</style>\n",
       "<table border=\"1\" class=\"dataframe\">\n",
       "  <thead>\n",
       "    <tr style=\"text-align: right;\">\n",
       "      <th></th>\n",
       "      <th>CustomerID</th>\n",
       "      <th>neighborhood</th>\n",
       "      <th>zone</th>\n",
       "      <th>bathrooms</th>\n",
       "      <th>bedrooms</th>\n",
       "      <th>floors</th>\n",
       "      <th>parkingSpaces</th>\n",
       "      <th>suites</th>\n",
       "      <th>unitFloor</th>\n",
       "      <th>unitsOnTheFloor</th>\n",
       "      <th>usableAreas</th>\n",
       "      <th>condo</th>\n",
       "      <th>iptu</th>\n",
       "      <th>price</th>\n",
       "      <th>unit</th>\n",
       "      <th>usage</th>\n",
       "    </tr>\n",
       "  </thead>\n",
       "  <tbody>\n",
       "    <tr>\n",
       "      <th>0</th>\n",
       "      <td>775564-BOJSMVON</td>\n",
       "      <td>Taquara</td>\n",
       "      <td>Zona Oeste</td>\n",
       "      <td>0</td>\n",
       "      <td>0</td>\n",
       "      <td>0</td>\n",
       "      <td>1</td>\n",
       "      <td>0</td>\n",
       "      <td>0</td>\n",
       "      <td>0</td>\n",
       "      <td>62</td>\n",
       "      <td>150</td>\n",
       "      <td>0</td>\n",
       "      <td>45000</td>\n",
       "      <td>Outros</td>\n",
       "      <td>Residencial</td>\n",
       "    </tr>\n",
       "    <tr>\n",
       "      <th>1</th>\n",
       "      <td>660895-AUENKNYY</td>\n",
       "      <td>Santíssimo</td>\n",
       "      <td>Zona Oeste</td>\n",
       "      <td>1</td>\n",
       "      <td>2</td>\n",
       "      <td>0</td>\n",
       "      <td>1</td>\n",
       "      <td>0</td>\n",
       "      <td>0</td>\n",
       "      <td>0</td>\n",
       "      <td>44</td>\n",
       "      <td>120</td>\n",
       "      <td>0</td>\n",
       "      <td>45000</td>\n",
       "      <td>Apartamento</td>\n",
       "      <td>Residencial</td>\n",
       "    </tr>\n",
       "    <tr>\n",
       "      <th>2</th>\n",
       "      <td>751522-JESYFEQL</td>\n",
       "      <td>Pedra de Guaratiba</td>\n",
       "      <td>Zona Oeste</td>\n",
       "      <td>0</td>\n",
       "      <td>0</td>\n",
       "      <td>0</td>\n",
       "      <td>0</td>\n",
       "      <td>0</td>\n",
       "      <td>0</td>\n",
       "      <td>0</td>\n",
       "      <td>132</td>\n",
       "      <td>100</td>\n",
       "      <td>0</td>\n",
       "      <td>50000</td>\n",
       "      <td>Outros</td>\n",
       "      <td>Residencial</td>\n",
       "    </tr>\n",
       "    <tr>\n",
       "      <th>3</th>\n",
       "      <td>714052-GAAEWYKS</td>\n",
       "      <td>Cascadura</td>\n",
       "      <td>Zona Norte</td>\n",
       "      <td>1</td>\n",
       "      <td>0</td>\n",
       "      <td>0</td>\n",
       "      <td>0</td>\n",
       "      <td>0</td>\n",
       "      <td>3</td>\n",
       "      <td>0</td>\n",
       "      <td>32</td>\n",
       "      <td>468</td>\n",
       "      <td>346</td>\n",
       "      <td>45000</td>\n",
       "      <td>Outros</td>\n",
       "      <td>Comercial</td>\n",
       "    </tr>\n",
       "    <tr>\n",
       "      <th>4</th>\n",
       "      <td>568886-ZIBFOMCC</td>\n",
       "      <td>Recreio dos Bandeirantes</td>\n",
       "      <td>Zona Oeste</td>\n",
       "      <td>2</td>\n",
       "      <td>3</td>\n",
       "      <td>3</td>\n",
       "      <td>1</td>\n",
       "      <td>1</td>\n",
       "      <td>2</td>\n",
       "      <td>4</td>\n",
       "      <td>60</td>\n",
       "      <td>400</td>\n",
       "      <td>120</td>\n",
       "      <td>50000</td>\n",
       "      <td>Apartamento</td>\n",
       "      <td>Residencial</td>\n",
       "    </tr>\n",
       "  </tbody>\n",
       "</table>\n",
       "</div>"
      ],
      "text/plain": [
       "        CustomerID              neighborhood        zone  bathrooms  bedrooms  \\\n",
       "0  775564-BOJSMVON                   Taquara  Zona Oeste          0         0   \n",
       "1  660895-AUENKNYY                Santíssimo  Zona Oeste          1         2   \n",
       "2  751522-JESYFEQL        Pedra de Guaratiba  Zona Oeste          0         0   \n",
       "3  714052-GAAEWYKS                 Cascadura  Zona Norte          1         0   \n",
       "4  568886-ZIBFOMCC  Recreio dos Bandeirantes  Zona Oeste          2         3   \n",
       "\n",
       "   floors  parkingSpaces  suites  unitFloor  unitsOnTheFloor usableAreas  \\\n",
       "0       0              1       0          0                0          62   \n",
       "1       0              1       0          0                0          44   \n",
       "2       0              0       0          0                0         132   \n",
       "3       0              0       0          3                0          32   \n",
       "4       3              1       1          2                4          60   \n",
       "\n",
       "  condo iptu  price         unit        usage  \n",
       "0   150    0  45000       Outros  Residencial  \n",
       "1   120    0  45000  Apartamento  Residencial  \n",
       "2   100    0  50000       Outros  Residencial  \n",
       "3   468  346  45000       Outros    Comercial  \n",
       "4   400  120  50000  Apartamento  Residencial  "
      ]
     },
     "execution_count": 41,
     "metadata": {},
     "output_type": "execute_result"
    }
   ],
   "source": [
    "df.limit(5).toPandas()"
   ]
  },
  {
   "cell_type": "code",
   "execution_count": 40,
   "id": "05931093",
   "metadata": {},
   "outputs": [
    {
     "name": "stdout",
     "output_type": "stream",
     "text": [
      "root\n",
      " |-- CustomerID: string (nullable = true)\n",
      " |-- neighborhood: string (nullable = true)\n",
      " |-- zone: string (nullable = true)\n",
      " |-- bathrooms: long (nullable = true)\n",
      " |-- bedrooms: long (nullable = true)\n",
      " |-- floors: long (nullable = true)\n",
      " |-- parkingSpaces: long (nullable = true)\n",
      " |-- suites: long (nullable = true)\n",
      " |-- unitFloor: long (nullable = true)\n",
      " |-- unitsOnTheFloor: long (nullable = true)\n",
      " |-- usableAreas: string (nullable = true)\n",
      " |-- condo: string (nullable = true)\n",
      " |-- iptu: string (nullable = true)\n",
      " |-- price: string (nullable = true)\n",
      " |-- unit: string (nullable = true)\n",
      " |-- usage: string (nullable = true)\n",
      "\n"
     ]
    }
   ],
   "source": [
    "df.printSchema()"
   ]
  },
  {
   "cell_type": "code",
   "execution_count": 51,
   "id": "582ffa99",
   "metadata": {},
   "outputs": [],
   "source": [
    "from pyspark.sql import functions as f\n",
    "from pyspark.sql.types import DoubleType, IntegerType"
   ]
  },
  {
   "cell_type": "code",
   "execution_count": 144,
   "id": "d76bbb20",
   "metadata": {},
   "outputs": [
    {
     "name": "stdout",
     "output_type": "stream",
     "text": [
      "root\n",
      " |-- CustomerID: string (nullable = true)\n",
      " |-- neighborhood: string (nullable = true)\n",
      " |-- zone: string (nullable = true)\n",
      " |-- bathrooms: long (nullable = true)\n",
      " |-- bedrooms: long (nullable = true)\n",
      " |-- floors: long (nullable = true)\n",
      " |-- parkingSpaces: long (nullable = true)\n",
      " |-- suites: long (nullable = true)\n",
      " |-- unitFloor: long (nullable = true)\n",
      " |-- unitsOnTheFloor: long (nullable = true)\n",
      " |-- usableAreas: double (nullable = true)\n",
      " |-- condo: double (nullable = true)\n",
      " |-- iptu: double (nullable = true)\n",
      " |-- price: double (nullable = true)\n",
      " |-- unit: string (nullable = true)\n",
      " |-- usage: string (nullable = true)\n",
      "\n"
     ]
    }
   ],
   "source": [
    "df\\\n",
    "    .withColumn('usableAreas', df['usableAreas'].cast(DoubleType()))\\\n",
    "    .withColumn('condo', df['condo'].cast(DoubleType()))\\\n",
    "    .withColumn('iptu', df['iptu'].cast(DoubleType()))\\\n",
    "    .withColumn('price', df['price'].cast(DoubleType())).printSchema()"
   ]
  },
  {
   "cell_type": "code",
   "execution_count": 145,
   "id": "66195fe3",
   "metadata": {},
   "outputs": [],
   "source": [
    "df = df\\\n",
    "    .withColumn('usableAreas', df['usableAreas'].cast(DoubleType()))\\\n",
    "    .withColumn('condo', df['condo'].cast(DoubleType()))\\\n",
    "    .withColumn('iptu', df['iptu'].cast(DoubleType()))\\\n",
    "    .withColumn('price', df['price'].cast(DoubleType()))"
   ]
  },
  {
   "cell_type": "code",
   "execution_count": 64,
   "id": "06e50b4b",
   "metadata": {},
   "outputs": [
    {
     "name": "stderr",
     "output_type": "stream",
     "text": [
      "                                                                                \r"
     ]
    },
    {
     "data": {
      "text/html": [
       "<div>\n",
       "<style scoped>\n",
       "    .dataframe tbody tr th:only-of-type {\n",
       "        vertical-align: middle;\n",
       "    }\n",
       "\n",
       "    .dataframe tbody tr th {\n",
       "        vertical-align: top;\n",
       "    }\n",
       "\n",
       "    .dataframe thead th {\n",
       "        text-align: right;\n",
       "    }\n",
       "</style>\n",
       "<table border=\"1\" class=\"dataframe\">\n",
       "  <thead>\n",
       "    <tr style=\"text-align: right;\">\n",
       "      <th></th>\n",
       "      <th>CustomerID</th>\n",
       "      <th>neighborhood</th>\n",
       "      <th>zone</th>\n",
       "      <th>bathrooms</th>\n",
       "      <th>bedrooms</th>\n",
       "      <th>floors</th>\n",
       "      <th>parkingSpaces</th>\n",
       "      <th>suites</th>\n",
       "      <th>unitFloor</th>\n",
       "      <th>unitsOnTheFloor</th>\n",
       "      <th>usableAreas</th>\n",
       "      <th>condo</th>\n",
       "      <th>iptu</th>\n",
       "      <th>price</th>\n",
       "      <th>unit</th>\n",
       "      <th>usage</th>\n",
       "    </tr>\n",
       "  </thead>\n",
       "  <tbody>\n",
       "    <tr>\n",
       "      <th>0</th>\n",
       "      <td>775564-BOJSMVON</td>\n",
       "      <td>Taquara</td>\n",
       "      <td>Zona Oeste</td>\n",
       "      <td>0</td>\n",
       "      <td>0</td>\n",
       "      <td>0</td>\n",
       "      <td>1</td>\n",
       "      <td>0</td>\n",
       "      <td>0</td>\n",
       "      <td>0</td>\n",
       "      <td>62.0</td>\n",
       "      <td>150.0</td>\n",
       "      <td>0.0</td>\n",
       "      <td>45000.0</td>\n",
       "      <td>Outros</td>\n",
       "      <td>Residencial</td>\n",
       "    </tr>\n",
       "    <tr>\n",
       "      <th>1</th>\n",
       "      <td>660895-AUENKNYY</td>\n",
       "      <td>Santíssimo</td>\n",
       "      <td>Zona Oeste</td>\n",
       "      <td>1</td>\n",
       "      <td>2</td>\n",
       "      <td>0</td>\n",
       "      <td>1</td>\n",
       "      <td>0</td>\n",
       "      <td>0</td>\n",
       "      <td>0</td>\n",
       "      <td>44.0</td>\n",
       "      <td>120.0</td>\n",
       "      <td>0.0</td>\n",
       "      <td>45000.0</td>\n",
       "      <td>Apartamento</td>\n",
       "      <td>Residencial</td>\n",
       "    </tr>\n",
       "    <tr>\n",
       "      <th>2</th>\n",
       "      <td>751522-JESYFEQL</td>\n",
       "      <td>Pedra de Guaratiba</td>\n",
       "      <td>Zona Oeste</td>\n",
       "      <td>0</td>\n",
       "      <td>0</td>\n",
       "      <td>0</td>\n",
       "      <td>0</td>\n",
       "      <td>0</td>\n",
       "      <td>0</td>\n",
       "      <td>0</td>\n",
       "      <td>132.0</td>\n",
       "      <td>100.0</td>\n",
       "      <td>0.0</td>\n",
       "      <td>50000.0</td>\n",
       "      <td>Outros</td>\n",
       "      <td>Residencial</td>\n",
       "    </tr>\n",
       "    <tr>\n",
       "      <th>3</th>\n",
       "      <td>714052-GAAEWYKS</td>\n",
       "      <td>Cascadura</td>\n",
       "      <td>Zona Norte</td>\n",
       "      <td>1</td>\n",
       "      <td>0</td>\n",
       "      <td>0</td>\n",
       "      <td>0</td>\n",
       "      <td>0</td>\n",
       "      <td>3</td>\n",
       "      <td>0</td>\n",
       "      <td>32.0</td>\n",
       "      <td>468.0</td>\n",
       "      <td>346.0</td>\n",
       "      <td>45000.0</td>\n",
       "      <td>Outros</td>\n",
       "      <td>Comercial</td>\n",
       "    </tr>\n",
       "    <tr>\n",
       "      <th>4</th>\n",
       "      <td>568886-ZIBFOMCC</td>\n",
       "      <td>Recreio dos Bandeirantes</td>\n",
       "      <td>Zona Oeste</td>\n",
       "      <td>2</td>\n",
       "      <td>3</td>\n",
       "      <td>3</td>\n",
       "      <td>1</td>\n",
       "      <td>1</td>\n",
       "      <td>2</td>\n",
       "      <td>4</td>\n",
       "      <td>60.0</td>\n",
       "      <td>400.0</td>\n",
       "      <td>120.0</td>\n",
       "      <td>50000.0</td>\n",
       "      <td>Apartamento</td>\n",
       "      <td>Residencial</td>\n",
       "    </tr>\n",
       "  </tbody>\n",
       "</table>\n",
       "</div>"
      ],
      "text/plain": [
       "        CustomerID              neighborhood        zone  bathrooms  bedrooms  \\\n",
       "0  775564-BOJSMVON                   Taquara  Zona Oeste          0         0   \n",
       "1  660895-AUENKNYY                Santíssimo  Zona Oeste          1         2   \n",
       "2  751522-JESYFEQL        Pedra de Guaratiba  Zona Oeste          0         0   \n",
       "3  714052-GAAEWYKS                 Cascadura  Zona Norte          1         0   \n",
       "4  568886-ZIBFOMCC  Recreio dos Bandeirantes  Zona Oeste          2         3   \n",
       "\n",
       "   floors  parkingSpaces  suites  unitFloor  unitsOnTheFloor  usableAreas  \\\n",
       "0       0              1       0          0                0         62.0   \n",
       "1       0              1       0          0                0         44.0   \n",
       "2       0              0       0          0                0        132.0   \n",
       "3       0              0       0          3                0         32.0   \n",
       "4       3              1       1          2                4         60.0   \n",
       "\n",
       "   condo   iptu    price         unit        usage  \n",
       "0  150.0    0.0  45000.0       Outros  Residencial  \n",
       "1  120.0    0.0  45000.0  Apartamento  Residencial  \n",
       "2  100.0    0.0  50000.0       Outros  Residencial  \n",
       "3  468.0  346.0  45000.0       Outros    Comercial  \n",
       "4  400.0  120.0  50000.0  Apartamento  Residencial  "
      ]
     },
     "execution_count": 64,
     "metadata": {},
     "output_type": "execute_result"
    }
   ],
   "source": [
    "df.limit(5).toPandas()"
   ]
  },
  {
   "cell_type": "code",
   "execution_count": 67,
   "id": "87655f94",
   "metadata": {},
   "outputs": [
    {
     "name": "stderr",
     "output_type": "stream",
     "text": [
      "\r",
      "[Stage 36:==================================================>       (7 + 1) / 8]\r"
     ]
    },
    {
     "name": "stdout",
     "output_type": "stream",
     "text": [
      "+-----------+-----+\n",
      "|      usage|count|\n",
      "+-----------+-----+\n",
      "|  Comercial| 4019|\n",
      "|Residencial|69596|\n",
      "+-----------+-----+\n",
      "\n"
     ]
    },
    {
     "name": "stderr",
     "output_type": "stream",
     "text": [
      "\r",
      "                                                                                \r"
     ]
    }
   ],
   "source": [
    "df.select('usage').groupBy('usage').count().show()"
   ]
  },
  {
   "cell_type": "code",
   "execution_count": 146,
   "id": "f35261f3",
   "metadata": {},
   "outputs": [],
   "source": [
    "df = df.where(df['usage'] == 'Residencial')"
   ]
  },
  {
   "cell_type": "code",
   "execution_count": 72,
   "id": "9df16f22",
   "metadata": {},
   "outputs": [
    {
     "name": "stderr",
     "output_type": "stream",
     "text": [
      "\r",
      "[Stage 39:==================================================>       (7 + 1) / 8]\r"
     ]
    },
    {
     "name": "stdout",
     "output_type": "stream",
     "text": [
      "+-----------+-----+\n",
      "|       unit|count|\n",
      "+-----------+-----+\n",
      "|     Outros| 1190|\n",
      "|Apartamento|59106|\n",
      "|       Casa| 9300|\n",
      "+-----------+-----+\n",
      "\n"
     ]
    },
    {
     "name": "stderr",
     "output_type": "stream",
     "text": [
      "\r",
      "                                                                                \r"
     ]
    }
   ],
   "source": [
    "df.select('unit').groupBy('unit').count().show()"
   ]
  },
  {
   "cell_type": "code",
   "execution_count": 74,
   "id": "397d6c68",
   "metadata": {},
   "outputs": [
    {
     "name": "stderr",
     "output_type": "stream",
     "text": [
      "\r",
      "[Stage 42:==================================================>       (7 + 1) / 8]\r"
     ]
    },
    {
     "name": "stdout",
     "output_type": "stream",
     "text": [
      "+------------+-----+\n",
      "|        zone|count|\n",
      "+------------+-----+\n",
      "|  Zona Norte|14379|\n",
      "|  Zona Oeste|35523|\n",
      "|Zona Central| 1002|\n",
      "|    Zona Sul|18535|\n",
      "|            |  157|\n",
      "+------------+-----+\n",
      "\n"
     ]
    },
    {
     "name": "stderr",
     "output_type": "stream",
     "text": [
      "\r",
      "                                                                                \r"
     ]
    }
   ],
   "source": [
    "df.select('zone').groupBy('zone').count().show()"
   ]
  },
  {
   "cell_type": "code",
   "execution_count": 115,
   "id": "69a9200f",
   "metadata": {},
   "outputs": [
    {
     "name": "stderr",
     "output_type": "stream",
     "text": [
      "\r",
      "[Stage 84:==================================================>       (7 + 1) / 8]\r"
     ]
    },
    {
     "name": "stdout",
     "output_type": "stream",
     "text": [
      "-RECORD 0---------------\n",
      " CustomerID      | 0    \n",
      " neighborhood    | 0    \n",
      " zone            | 0    \n",
      " bathrooms       | 0    \n",
      " bedrooms        | 0    \n",
      " floors          | 0    \n",
      " parkingSpaces   | 0    \n",
      " suites          | 0    \n",
      " unitFloor       | 0    \n",
      " unitsOnTheFloor | 0    \n",
      " usableAreas     | 0    \n",
      " condo           | 6061 \n",
      " iptu            | 8726 \n",
      " price           | 0    \n",
      " unit            | 0    \n",
      " usage           | 0    \n",
      "\n"
     ]
    },
    {
     "name": "stderr",
     "output_type": "stream",
     "text": [
      "\r",
      "                                                                                \r"
     ]
    }
   ],
   "source": [
    "df.select([f.count(f.when(f.isnull(df[a]), 1)).alias(a) for a in df.columns]).show(vertical = True)"
   ]
  },
  {
   "cell_type": "code",
   "execution_count": 116,
   "id": "545a51bb",
   "metadata": {},
   "outputs": [
    {
     "name": "stderr",
     "output_type": "stream",
     "text": [
      "\r",
      "[Stage 87:==================================================>       (7 + 1) / 8]\r"
     ]
    },
    {
     "name": "stdout",
     "output_type": "stream",
     "text": [
      "-RECORD 0---------------\n",
      " CustomerID      | 0    \n",
      " neighborhood    | 0    \n",
      " zone            | 0    \n",
      " bathrooms       | 0    \n",
      " bedrooms        | 0    \n",
      " floors          | 0    \n",
      " parkingSpaces   | 0    \n",
      " suites          | 0    \n",
      " unitFloor       | 0    \n",
      " unitsOnTheFloor | 0    \n",
      " usableAreas     | 0    \n",
      " condo           | 6061 \n",
      " iptu            | 8726 \n",
      " price           | 0    \n",
      " unit            | 0    \n",
      " usage           | 0    \n",
      "\n"
     ]
    },
    {
     "name": "stderr",
     "output_type": "stream",
     "text": [
      "\r",
      "                                                                                \r"
     ]
    }
   ],
   "source": [
    "df\\\n",
    "    .select(\n",
    "        [f.count(f.when(f.isnull(df[a]) | f.isnan(df[a]), 1)).alias(a) for a in df.columns]\n",
    "    ).show(vertical = True)"
   ]
  },
  {
   "cell_type": "code",
   "execution_count": 147,
   "id": "120fed01",
   "metadata": {},
   "outputs": [],
   "source": [
    "df = df\\\n",
    "    .select('*')\\\n",
    "    .na\\\n",
    "    .fill(0)"
   ]
  },
  {
   "cell_type": "code",
   "execution_count": 129,
   "id": "8fb299f1",
   "metadata": {},
   "outputs": [
    {
     "name": "stderr",
     "output_type": "stream",
     "text": [
      "\r",
      "[Stage 94:==================================================>       (7 + 1) / 8]\r"
     ]
    },
    {
     "name": "stdout",
     "output_type": "stream",
     "text": [
      "-RECORD 0--------------\n",
      " CustomerID      | 0   \n",
      " neighborhood    | 0   \n",
      " zone            | 0   \n",
      " bathrooms       | 0   \n",
      " bedrooms        | 0   \n",
      " floors          | 0   \n",
      " parkingSpaces   | 0   \n",
      " suites          | 0   \n",
      " unitFloor       | 0   \n",
      " unitsOnTheFloor | 0   \n",
      " usableAreas     | 0   \n",
      " condo           | 0   \n",
      " iptu            | 0   \n",
      " price           | 0   \n",
      " unit            | 0   \n",
      " usage           | 0   \n",
      "\n"
     ]
    },
    {
     "name": "stderr",
     "output_type": "stream",
     "text": [
      "\r",
      "                                                                                \r"
     ]
    }
   ],
   "source": [
    "df.select([f.count(f.when(f.isnull(df[a]), 1)).alias(a) for a in df.columns]).show(vertical = True)"
   ]
  },
  {
   "cell_type": "code",
   "execution_count": 132,
   "id": "24fced48",
   "metadata": {},
   "outputs": [
    {
     "name": "stderr",
     "output_type": "stream",
     "text": [
      "                                                                                \r"
     ]
    },
    {
     "data": {
      "text/html": [
       "<div>\n",
       "<style scoped>\n",
       "    .dataframe tbody tr th:only-of-type {\n",
       "        vertical-align: middle;\n",
       "    }\n",
       "\n",
       "    .dataframe tbody tr th {\n",
       "        vertical-align: top;\n",
       "    }\n",
       "\n",
       "    .dataframe thead th {\n",
       "        text-align: right;\n",
       "    }\n",
       "</style>\n",
       "<table border=\"1\" class=\"dataframe\">\n",
       "  <thead>\n",
       "    <tr style=\"text-align: right;\">\n",
       "      <th></th>\n",
       "      <th>CustomerID</th>\n",
       "      <th>neighborhood</th>\n",
       "      <th>zone</th>\n",
       "      <th>bathrooms</th>\n",
       "      <th>bedrooms</th>\n",
       "      <th>floors</th>\n",
       "      <th>parkingSpaces</th>\n",
       "      <th>suites</th>\n",
       "      <th>unitFloor</th>\n",
       "      <th>unitsOnTheFloor</th>\n",
       "      <th>usableAreas</th>\n",
       "      <th>condo</th>\n",
       "      <th>iptu</th>\n",
       "      <th>price</th>\n",
       "      <th>unit</th>\n",
       "      <th>usage</th>\n",
       "    </tr>\n",
       "  </thead>\n",
       "  <tbody>\n",
       "    <tr>\n",
       "      <th>0</th>\n",
       "      <td>414812-MDCSNYIJ</td>\n",
       "      <td>Centro</td>\n",
       "      <td></td>\n",
       "      <td>1</td>\n",
       "      <td>1</td>\n",
       "      <td>0</td>\n",
       "      <td>1</td>\n",
       "      <td>0</td>\n",
       "      <td>0</td>\n",
       "      <td>0</td>\n",
       "      <td>14.0</td>\n",
       "      <td>0.0</td>\n",
       "      <td>0.0</td>\n",
       "      <td>110000.0</td>\n",
       "      <td>Outros</td>\n",
       "      <td>Residencial</td>\n",
       "    </tr>\n",
       "    <tr>\n",
       "      <th>1</th>\n",
       "      <td>458881-BKLQHIRG</td>\n",
       "      <td>Campo Grande</td>\n",
       "      <td></td>\n",
       "      <td>1</td>\n",
       "      <td>2</td>\n",
       "      <td>0</td>\n",
       "      <td>2</td>\n",
       "      <td>0</td>\n",
       "      <td>1</td>\n",
       "      <td>0</td>\n",
       "      <td>252.0</td>\n",
       "      <td>0.0</td>\n",
       "      <td>0.0</td>\n",
       "      <td>150000.0</td>\n",
       "      <td>Casa</td>\n",
       "      <td>Residencial</td>\n",
       "    </tr>\n",
       "    <tr>\n",
       "      <th>2</th>\n",
       "      <td>571109-FXOKDSGL</td>\n",
       "      <td>Campo Grande</td>\n",
       "      <td></td>\n",
       "      <td>1</td>\n",
       "      <td>2</td>\n",
       "      <td>0</td>\n",
       "      <td>0</td>\n",
       "      <td>0</td>\n",
       "      <td>1</td>\n",
       "      <td>0</td>\n",
       "      <td>105.0</td>\n",
       "      <td>0.0</td>\n",
       "      <td>0.0</td>\n",
       "      <td>150000.0</td>\n",
       "      <td>Casa</td>\n",
       "      <td>Residencial</td>\n",
       "    </tr>\n",
       "    <tr>\n",
       "      <th>3</th>\n",
       "      <td>491439-BEYFWXII</td>\n",
       "      <td>Pedra de Guaratiba</td>\n",
       "      <td></td>\n",
       "      <td>1</td>\n",
       "      <td>3</td>\n",
       "      <td>0</td>\n",
       "      <td>1</td>\n",
       "      <td>1</td>\n",
       "      <td>0</td>\n",
       "      <td>0</td>\n",
       "      <td>50.0</td>\n",
       "      <td>340.0</td>\n",
       "      <td>0.0</td>\n",
       "      <td>175000.0</td>\n",
       "      <td>Apartamento</td>\n",
       "      <td>Residencial</td>\n",
       "    </tr>\n",
       "    <tr>\n",
       "      <th>4</th>\n",
       "      <td>680705-BQOBOVXB</td>\n",
       "      <td>Grajaú</td>\n",
       "      <td></td>\n",
       "      <td>1</td>\n",
       "      <td>2</td>\n",
       "      <td>0</td>\n",
       "      <td>0</td>\n",
       "      <td>0</td>\n",
       "      <td>0</td>\n",
       "      <td>0</td>\n",
       "      <td>48.0</td>\n",
       "      <td>400.0</td>\n",
       "      <td>0.0</td>\n",
       "      <td>179999.0</td>\n",
       "      <td>Apartamento</td>\n",
       "      <td>Residencial</td>\n",
       "    </tr>\n",
       "  </tbody>\n",
       "</table>\n",
       "</div>"
      ],
      "text/plain": [
       "        CustomerID        neighborhood zone  bathrooms  bedrooms  floors  \\\n",
       "0  414812-MDCSNYIJ              Centro               1         1       0   \n",
       "1  458881-BKLQHIRG        Campo Grande               1         2       0   \n",
       "2  571109-FXOKDSGL        Campo Grande               1         2       0   \n",
       "3  491439-BEYFWXII  Pedra de Guaratiba               1         3       0   \n",
       "4  680705-BQOBOVXB              Grajaú               1         2       0   \n",
       "\n",
       "   parkingSpaces  suites  unitFloor  unitsOnTheFloor  usableAreas  condo  \\\n",
       "0              1       0          0                0         14.0    0.0   \n",
       "1              2       0          1                0        252.0    0.0   \n",
       "2              0       0          1                0        105.0    0.0   \n",
       "3              1       1          0                0         50.0  340.0   \n",
       "4              0       0          0                0         48.0  400.0   \n",
       "\n",
       "   iptu     price         unit        usage  \n",
       "0   0.0  110000.0       Outros  Residencial  \n",
       "1   0.0  150000.0         Casa  Residencial  \n",
       "2   0.0  150000.0         Casa  Residencial  \n",
       "3   0.0  175000.0  Apartamento  Residencial  \n",
       "4   0.0  179999.0  Apartamento  Residencial  "
      ]
     },
     "execution_count": 132,
     "metadata": {},
     "output_type": "execute_result"
    }
   ],
   "source": [
    "df.where(df['zone'] == '').limit(5).toPandas()"
   ]
  },
  {
   "cell_type": "code",
   "execution_count": 148,
   "id": "51e830d6",
   "metadata": {},
   "outputs": [],
   "source": [
    "df = df.where(df['zone'] != '')"
   ]
  },
  {
   "cell_type": "markdown",
   "id": "ccbb11aa",
   "metadata": {},
   "source": [
    "# ML"
   ]
  },
  {
   "cell_type": "code",
   "execution_count": 149,
   "id": "2870b0a2",
   "metadata": {},
   "outputs": [
    {
     "name": "stderr",
     "output_type": "stream",
     "text": [
      "\r",
      "[Stage 154:>                                                        (0 + 1) / 1]\r"
     ]
    },
    {
     "name": "stdout",
     "output_type": "stream",
     "text": [
      "+-----------+\n",
      "|       unit|\n",
      "+-----------+\n",
      "|     Outros|\n",
      "|Apartamento|\n",
      "|     Outros|\n",
      "|Apartamento|\n",
      "|     Outros|\n",
      "+-----------+\n",
      "only showing top 5 rows\n",
      "\n"
     ]
    },
    {
     "name": "stderr",
     "output_type": "stream",
     "text": [
      "\r",
      "                                                                                \r"
     ]
    }
   ],
   "source": [
    "#DUMMY\n",
    "\n",
    "df.select('unit').show(5)"
   ]
  },
  {
   "cell_type": "code",
   "execution_count": 150,
   "id": "04a220e5",
   "metadata": {},
   "outputs": [
    {
     "name": "stderr",
     "output_type": "stream",
     "text": [
      "[Stage 163:=================================================>       (7 + 1) / 8]\r"
     ]
    },
    {
     "name": "stdout",
     "output_type": "stream",
     "text": [
      "+---------------+-----------+----+------+\n",
      "|     CustomerID|Apartamento|Casa|Outros|\n",
      "+---------------+-----------+----+------+\n",
      "|062130-QKYMWGMV|          1|   0|     0|\n",
      "|630945-AEEUPRXI|          0|   1|     0|\n",
      "|994985-OZQNHQKH|          1|   0|     0|\n",
      "|494674-JWXRZIBM|          1|   0|     0|\n",
      "|458844-UJCRFSRI|          1|   0|     0|\n",
      "+---------------+-----------+----+------+\n",
      "only showing top 5 rows\n",
      "\n"
     ]
    },
    {
     "name": "stderr",
     "output_type": "stream",
     "text": [
      "\r",
      "                                                                                \r"
     ]
    }
   ],
   "source": [
    "df\\\n",
    "    .groupBy('CustomerID')\\\n",
    "    .pivot('unit')\\\n",
    "    .agg(f.lit(1))\\\n",
    "    .na\\\n",
    "    .fill(0)\\\n",
    "    .show(5)"
   ]
  },
  {
   "cell_type": "code",
   "execution_count": 151,
   "id": "61bc7df3",
   "metadata": {},
   "outputs": [
    {
     "name": "stderr",
     "output_type": "stream",
     "text": [
      "\r",
      "[Stage 169:=================================================>       (7 + 1) / 8]\r",
      "\r",
      "                                                                                \r"
     ]
    }
   ],
   "source": [
    "#onehotencoder\n",
    "unit = df\\\n",
    "    .groupBy('CustomerID')\\\n",
    "    .pivot('unit')\\\n",
    "    .agg(f.lit(1))\\\n",
    "    .na\\\n",
    "    .fill(0)"
   ]
  },
  {
   "cell_type": "code",
   "execution_count": 152,
   "id": "a93ff853",
   "metadata": {},
   "outputs": [
    {
     "name": "stderr",
     "output_type": "stream",
     "text": [
      "                                                                                \r"
     ]
    }
   ],
   "source": [
    "#onehotencoder\n",
    "zone = df\\\n",
    "    .groupBy('CustomerID')\\\n",
    "    .pivot('zone')\\\n",
    "    .agg(f.lit(1))\\\n",
    "    .na\\\n",
    "    .fill(0)"
   ]
  },
  {
   "cell_type": "code",
   "execution_count": 157,
   "id": "f51dffd4",
   "metadata": {},
   "outputs": [
    {
     "name": "stderr",
     "output_type": "stream",
     "text": [
      "                                                                                \r"
     ]
    },
    {
     "data": {
      "text/html": [
       "<div>\n",
       "<style scoped>\n",
       "    .dataframe tbody tr th:only-of-type {\n",
       "        vertical-align: middle;\n",
       "    }\n",
       "\n",
       "    .dataframe tbody tr th {\n",
       "        vertical-align: top;\n",
       "    }\n",
       "\n",
       "    .dataframe thead th {\n",
       "        text-align: right;\n",
       "    }\n",
       "</style>\n",
       "<table border=\"1\" class=\"dataframe\">\n",
       "  <thead>\n",
       "    <tr style=\"text-align: right;\">\n",
       "      <th></th>\n",
       "      <th>CustomerID</th>\n",
       "      <th>neighborhood</th>\n",
       "      <th>zone</th>\n",
       "      <th>bathrooms</th>\n",
       "      <th>bedrooms</th>\n",
       "      <th>floors</th>\n",
       "      <th>parkingSpaces</th>\n",
       "      <th>suites</th>\n",
       "      <th>unitFloor</th>\n",
       "      <th>unitsOnTheFloor</th>\n",
       "      <th>usableAreas</th>\n",
       "      <th>condo</th>\n",
       "      <th>iptu</th>\n",
       "      <th>price</th>\n",
       "      <th>unit</th>\n",
       "      <th>usage</th>\n",
       "      <th>Apartamento</th>\n",
       "      <th>Casa</th>\n",
       "      <th>Outros</th>\n",
       "      <th>Zona Central</th>\n",
       "      <th>Zona Norte</th>\n",
       "      <th>Zona Oeste</th>\n",
       "      <th>Zona Sul</th>\n",
       "    </tr>\n",
       "  </thead>\n",
       "  <tbody>\n",
       "    <tr>\n",
       "      <th>0</th>\n",
       "      <td>775564-BOJSMVON</td>\n",
       "      <td>Taquara</td>\n",
       "      <td>Zona Oeste</td>\n",
       "      <td>0</td>\n",
       "      <td>0</td>\n",
       "      <td>0</td>\n",
       "      <td>1</td>\n",
       "      <td>0</td>\n",
       "      <td>0</td>\n",
       "      <td>0</td>\n",
       "      <td>62.0</td>\n",
       "      <td>150.0</td>\n",
       "      <td>0.0</td>\n",
       "      <td>45000.0</td>\n",
       "      <td>Outros</td>\n",
       "      <td>Residencial</td>\n",
       "      <td>0</td>\n",
       "      <td>0</td>\n",
       "      <td>1</td>\n",
       "      <td>0</td>\n",
       "      <td>0</td>\n",
       "      <td>1</td>\n",
       "      <td>0</td>\n",
       "    </tr>\n",
       "    <tr>\n",
       "      <th>1</th>\n",
       "      <td>660895-AUENKNYY</td>\n",
       "      <td>Santíssimo</td>\n",
       "      <td>Zona Oeste</td>\n",
       "      <td>1</td>\n",
       "      <td>2</td>\n",
       "      <td>0</td>\n",
       "      <td>1</td>\n",
       "      <td>0</td>\n",
       "      <td>0</td>\n",
       "      <td>0</td>\n",
       "      <td>44.0</td>\n",
       "      <td>120.0</td>\n",
       "      <td>0.0</td>\n",
       "      <td>45000.0</td>\n",
       "      <td>Apartamento</td>\n",
       "      <td>Residencial</td>\n",
       "      <td>1</td>\n",
       "      <td>0</td>\n",
       "      <td>0</td>\n",
       "      <td>0</td>\n",
       "      <td>0</td>\n",
       "      <td>1</td>\n",
       "      <td>0</td>\n",
       "    </tr>\n",
       "    <tr>\n",
       "      <th>2</th>\n",
       "      <td>751522-JESYFEQL</td>\n",
       "      <td>Pedra de Guaratiba</td>\n",
       "      <td>Zona Oeste</td>\n",
       "      <td>0</td>\n",
       "      <td>0</td>\n",
       "      <td>0</td>\n",
       "      <td>0</td>\n",
       "      <td>0</td>\n",
       "      <td>0</td>\n",
       "      <td>0</td>\n",
       "      <td>132.0</td>\n",
       "      <td>100.0</td>\n",
       "      <td>0.0</td>\n",
       "      <td>50000.0</td>\n",
       "      <td>Outros</td>\n",
       "      <td>Residencial</td>\n",
       "      <td>0</td>\n",
       "      <td>0</td>\n",
       "      <td>1</td>\n",
       "      <td>0</td>\n",
       "      <td>0</td>\n",
       "      <td>1</td>\n",
       "      <td>0</td>\n",
       "    </tr>\n",
       "    <tr>\n",
       "      <th>3</th>\n",
       "      <td>568886-ZIBFOMCC</td>\n",
       "      <td>Recreio dos Bandeirantes</td>\n",
       "      <td>Zona Oeste</td>\n",
       "      <td>2</td>\n",
       "      <td>3</td>\n",
       "      <td>3</td>\n",
       "      <td>1</td>\n",
       "      <td>1</td>\n",
       "      <td>2</td>\n",
       "      <td>4</td>\n",
       "      <td>60.0</td>\n",
       "      <td>400.0</td>\n",
       "      <td>120.0</td>\n",
       "      <td>50000.0</td>\n",
       "      <td>Apartamento</td>\n",
       "      <td>Residencial</td>\n",
       "      <td>1</td>\n",
       "      <td>0</td>\n",
       "      <td>0</td>\n",
       "      <td>0</td>\n",
       "      <td>0</td>\n",
       "      <td>1</td>\n",
       "      <td>0</td>\n",
       "    </tr>\n",
       "    <tr>\n",
       "      <th>4</th>\n",
       "      <td>526755-OBLTYTEN</td>\n",
       "      <td>Guaratiba</td>\n",
       "      <td>Zona Oeste</td>\n",
       "      <td>0</td>\n",
       "      <td>0</td>\n",
       "      <td>0</td>\n",
       "      <td>0</td>\n",
       "      <td>0</td>\n",
       "      <td>0</td>\n",
       "      <td>0</td>\n",
       "      <td>200.0</td>\n",
       "      <td>0.0</td>\n",
       "      <td>0.0</td>\n",
       "      <td>50000.0</td>\n",
       "      <td>Outros</td>\n",
       "      <td>Residencial</td>\n",
       "      <td>0</td>\n",
       "      <td>0</td>\n",
       "      <td>1</td>\n",
       "      <td>0</td>\n",
       "      <td>0</td>\n",
       "      <td>1</td>\n",
       "      <td>0</td>\n",
       "    </tr>\n",
       "  </tbody>\n",
       "</table>\n",
       "</div>"
      ],
      "text/plain": [
       "        CustomerID              neighborhood        zone  bathrooms  bedrooms  \\\n",
       "0  775564-BOJSMVON                   Taquara  Zona Oeste          0         0   \n",
       "1  660895-AUENKNYY                Santíssimo  Zona Oeste          1         2   \n",
       "2  751522-JESYFEQL        Pedra de Guaratiba  Zona Oeste          0         0   \n",
       "3  568886-ZIBFOMCC  Recreio dos Bandeirantes  Zona Oeste          2         3   \n",
       "4  526755-OBLTYTEN                 Guaratiba  Zona Oeste          0         0   \n",
       "\n",
       "   floors  parkingSpaces  suites  unitFloor  unitsOnTheFloor  usableAreas  \\\n",
       "0       0              1       0          0                0         62.0   \n",
       "1       0              1       0          0                0         44.0   \n",
       "2       0              0       0          0                0        132.0   \n",
       "3       3              1       1          2                4         60.0   \n",
       "4       0              0       0          0                0        200.0   \n",
       "\n",
       "   condo   iptu    price         unit        usage  Apartamento  Casa  Outros  \\\n",
       "0  150.0    0.0  45000.0       Outros  Residencial            0     0       1   \n",
       "1  120.0    0.0  45000.0  Apartamento  Residencial            1     0       0   \n",
       "2  100.0    0.0  50000.0       Outros  Residencial            0     0       1   \n",
       "3  400.0  120.0  50000.0  Apartamento  Residencial            1     0       0   \n",
       "4    0.0    0.0  50000.0       Outros  Residencial            0     0       1   \n",
       "\n",
       "   Zona Central  Zona Norte  Zona Oeste  Zona Sul  \n",
       "0             0           0           1         0  \n",
       "1             0           0           1         0  \n",
       "2             0           0           1         0  \n",
       "3             0           0           1         0  \n",
       "4             0           0           1         0  "
      ]
     },
     "execution_count": 157,
     "metadata": {},
     "output_type": "execute_result"
    }
   ],
   "source": [
    "df\\\n",
    "    .join(unit, on = 'CustomerID', how = 'inner')\\\n",
    "    .join(zone, on = 'CustomerID', how = 'inner').limit(5).toPandas()"
   ]
  },
  {
   "cell_type": "code",
   "execution_count": 158,
   "id": "d539e64d",
   "metadata": {},
   "outputs": [],
   "source": [
    "#onehotencoder\n",
    "df = df\\\n",
    "        .join(unit, on = 'CustomerID', how = 'inner')\\\n",
    "        .join(zone, on = 'CustomerID', how = 'inner')"
   ]
  },
  {
   "cell_type": "code",
   "execution_count": 163,
   "id": "2c1c2d61",
   "metadata": {},
   "outputs": [],
   "source": [
    "#mudando nome da variavel price(nossa target) para label\n",
    "df = df.withColumnRenamed('price', 'label')"
   ]
  },
  {
   "cell_type": "markdown",
   "id": "5ec0dff7",
   "metadata": {},
   "source": [
    "# Vetorizando"
   ]
  },
  {
   "cell_type": "code",
   "execution_count": 164,
   "id": "6e3d908a",
   "metadata": {},
   "outputs": [],
   "source": [
    "#funcao para vetorizar o dataframe spark\n",
    "from pyspark.ml.feature import VectorAssembler"
   ]
  },
  {
   "cell_type": "code",
   "execution_count": 165,
   "id": "c5195359",
   "metadata": {},
   "outputs": [
    {
     "data": {
      "text/plain": [
       "['CustomerID',\n",
       " 'neighborhood',\n",
       " 'zone',\n",
       " 'bathrooms',\n",
       " 'bedrooms',\n",
       " 'floors',\n",
       " 'parkingSpaces',\n",
       " 'suites',\n",
       " 'unitFloor',\n",
       " 'unitsOnTheFloor',\n",
       " 'usableAreas',\n",
       " 'condo',\n",
       " 'iptu',\n",
       " 'label',\n",
       " 'unit',\n",
       " 'usage',\n",
       " 'Apartamento',\n",
       " 'Casa',\n",
       " 'Outros',\n",
       " 'Zona Central',\n",
       " 'Zona Norte',\n",
       " 'Zona Oeste',\n",
       " 'Zona Sul']"
      ]
     },
     "execution_count": 165,
     "metadata": {},
     "output_type": "execute_result"
    }
   ],
   "source": [
    "df.columns"
   ]
  },
  {
   "cell_type": "code",
   "execution_count": 166,
   "id": "d403b2cc",
   "metadata": {},
   "outputs": [],
   "source": [
    "#variaibeis independentes\n",
    "X = [\n",
    " 'bathrooms',\n",
    " 'bedrooms',\n",
    " 'floors',\n",
    " 'parkingSpaces',\n",
    " 'suites',\n",
    " 'unitFloor',\n",
    " 'unitsOnTheFloor',\n",
    " 'usableAreas',\n",
    " 'condo',\n",
    " 'iptu',\n",
    " 'Apartamento',\n",
    " 'Casa',\n",
    " 'Outros',\n",
    " 'Zona Central',\n",
    " 'Zona Norte',\n",
    " 'Zona Oeste',\n",
    " 'Zona Sul']"
   ]
  },
  {
   "cell_type": "code",
   "execution_count": 167,
   "id": "23ceb978",
   "metadata": {},
   "outputs": [],
   "source": [
    "assembler = VectorAssembler(inputCols = X, outputCol = 'features')"
   ]
  },
  {
   "cell_type": "code",
   "execution_count": 168,
   "id": "8fa97c8e",
   "metadata": {},
   "outputs": [],
   "source": [
    "df_ml = assembler.transform(df).select('features', 'label')"
   ]
  },
  {
   "cell_type": "code",
   "execution_count": 170,
   "id": "53aa8652",
   "metadata": {},
   "outputs": [
    {
     "name": "stderr",
     "output_type": "stream",
     "text": [
      "                                                                                \r"
     ]
    },
    {
     "name": "stdout",
     "output_type": "stream",
     "text": [
      "+--------------------------------------------------------------------------+-------+\n",
      "|features                                                                  |label  |\n",
      "+--------------------------------------------------------------------------+-------+\n",
      "|(17,[3,7,8,12,15],[1.0,62.0,150.0,1.0,1.0])                               |45000.0|\n",
      "|(17,[0,1,3,7,8,10,15],[1.0,2.0,1.0,44.0,120.0,1.0,1.0])                   |45000.0|\n",
      "|(17,[7,8,12,15],[132.0,100.0,1.0,1.0])                                    |50000.0|\n",
      "|[2.0,3.0,3.0,1.0,1.0,2.0,4.0,60.0,400.0,120.0,1.0,0.0,0.0,0.0,0.0,1.0,0.0]|50000.0|\n",
      "|(17,[7,12,15],[200.0,1.0,1.0])                                            |50000.0|\n",
      "+--------------------------------------------------------------------------+-------+\n",
      "\n"
     ]
    },
    {
     "name": "stderr",
     "output_type": "stream",
     "text": [
      "\r",
      "[Stage 244:=================================================>       (7 + 1) / 8]\r",
      "\r",
      "                                                                                \r"
     ]
    }
   ],
   "source": [
    "df_ml.limit(5).show(truncate = False)"
   ]
  },
  {
   "cell_type": "code",
   "execution_count": 171,
   "id": "2dd00ada",
   "metadata": {},
   "outputs": [],
   "source": [
    "# ver correlacoes\n",
    "\n",
    "from pyspark.ml.stat import Correlation\n",
    "import pandas as pd"
   ]
  },
  {
   "cell_type": "code",
   "execution_count": 172,
   "id": "4f1222dc",
   "metadata": {},
   "outputs": [
    {
     "name": "stderr",
     "output_type": "stream",
     "text": [
      "[Stage 263:=================================================>       (7 + 1) / 8]\r"
     ]
    },
    {
     "name": "stdout",
     "output_type": "stream",
     "text": [
      "23/07/01 16:20:14 WARN InstanceBuilder$NativeBLAS: Failed to load implementation from:dev.ludovic.netlib.blas.JNIBLAS\n",
      "23/07/01 16:20:14 WARN InstanceBuilder$NativeBLAS: Failed to load implementation from:dev.ludovic.netlib.blas.ForeignLinkerBLAS\n",
      "23/07/01 16:20:14 WARN InstanceBuilder$JavaBLAS: Failed to load implementation from:dev.ludovic.netlib.blas.VectorBLAS\n"
     ]
    },
    {
     "name": "stderr",
     "output_type": "stream",
     "text": [
      "\r",
      "                                                                                \r"
     ]
    }
   ],
   "source": [
    "correlacao = Correlation.corr(df_ml, 'features').collect()"
   ]
  },
  {
   "cell_type": "code",
   "execution_count": 186,
   "id": "0c159db5",
   "metadata": {},
   "outputs": [],
   "source": [
    "correlacao = correlacao[0][0]"
   ]
  },
  {
   "cell_type": "code",
   "execution_count": 187,
   "id": "71fffc02",
   "metadata": {},
   "outputs": [
    {
     "data": {
      "text/plain": [
       "DenseMatrix(17, 17, [1.0, 0.6659, -0.0446, 0.4876, 0.7529, 0.0076, -0.1074, 0.5981, ..., 0.0088, 0.1803, -0.1833, -0.0165, -0.073, -0.3084, -0.6176, 1.0], False)"
      ]
     },
     "execution_count": 187,
     "metadata": {},
     "output_type": "execute_result"
    }
   ],
   "source": [
    "correlacao"
   ]
  },
  {
   "cell_type": "code",
   "execution_count": 189,
   "id": "31751bd5",
   "metadata": {},
   "outputs": [],
   "source": [
    "correlacao = correlacao.toArray()"
   ]
  },
  {
   "cell_type": "code",
   "execution_count": 190,
   "id": "e339e524",
   "metadata": {},
   "outputs": [],
   "source": [
    "df_correlacao = pd.DataFrame(data = correlacao, columns = X, index = X)"
   ]
  },
  {
   "cell_type": "code",
   "execution_count": 198,
   "id": "2fb802ab",
   "metadata": {},
   "outputs": [
    {
     "data": {
      "image/png": "[encoded data removed]",
      "text/plain": [
       "<Figure size 1200x800 with 2 Axes>"
      ]
     },
     "metadata": {},
     "output_type": "display_data"
    }
   ],
   "source": [
    "import seaborn as sns\n",
    "import matplotlib.pyplot as plt\n",
    "\n",
    "fig, ax = plt.subplots(figsize = (12,8))\n",
    "\n",
    "sns.heatmap(df_correlacao, ax = ax)\n",
    "\n",
    "fig.tight_layout();"
   ]
  },
  {
   "cell_type": "code",
   "execution_count": 199,
   "id": "57b8b9bc",
   "metadata": {},
   "outputs": [],
   "source": [
    "### treinar e prever\n"
   ]
  },
  {
   "cell_type": "code",
   "execution_count": 200,
   "id": "3b34b17c",
   "metadata": {},
   "outputs": [],
   "source": [
    "#separar em treino e teste\n",
    "from pyspark.ml.regression import LinearRegression\n",
    "\n",
    "treino, teste = df_ml.randomSplit([0.7, 0.3], seed = 101)"
   ]
  },
  {
   "cell_type": "code",
   "execution_count": 201,
   "id": "569cfbc6",
   "metadata": {},
   "outputs": [
    {
     "name": "stderr",
     "output_type": "stream",
     "text": [
      "                                                                                \r"
     ]
    },
    {
     "name": "stdout",
     "output_type": "stream",
     "text": [
      "48528\n"
     ]
    },
    {
     "name": "stderr",
     "output_type": "stream",
     "text": [
      "[Stage 292:=================================================>       (7 + 1) / 8]\r"
     ]
    },
    {
     "name": "stdout",
     "output_type": "stream",
     "text": [
      "20911\n"
     ]
    },
    {
     "name": "stderr",
     "output_type": "stream",
     "text": [
      "\r",
      "                                                                                \r"
     ]
    }
   ],
   "source": [
    "print(treino.count())\n",
    "print(teste.count())"
   ]
  },
  {
   "cell_type": "code",
   "execution_count": 202,
   "id": "c1b96375",
   "metadata": {},
   "outputs": [
    {
     "name": "stderr",
     "output_type": "stream",
     "text": [
      "                                                                                \r"
     ]
    },
    {
     "name": "stdout",
     "output_type": "stream",
     "text": [
      "23/07/01 16:28:08 WARN Instrumentation: [53a2ad5b] regParam is zero, which might cause numerical instability and overfitting.\n"
     ]
    },
    {
     "name": "stderr",
     "output_type": "stream",
     "text": [
      "                                                                                \r"
     ]
    },
    {
     "name": "stdout",
     "output_type": "stream",
     "text": [
      "23/07/01 16:28:10 WARN InstanceBuilder$NativeLAPACK: Failed to load implementation from:dev.ludovic.netlib.lapack.JNILAPACK\n",
      "23/07/01 16:28:10 WARN Instrumentation: [53a2ad5b] Cholesky solver failed due to singular covariance matrix. Retrying with Quasi-Newton solver.\n"
     ]
    },
    {
     "name": "stderr",
     "output_type": "stream",
     "text": [
      "                                                                                \r"
     ]
    }
   ],
   "source": [
    "lr = LinearRegression()\n",
    "\n",
    "model = lr.fit(treino)\n",
    "\n",
    "pred_treino = model.transform(treino)\n",
    "\n"
   ]
  },
  {
   "cell_type": "code",
   "execution_count": 203,
   "id": "1fbbb058",
   "metadata": {},
   "outputs": [
    {
     "name": "stderr",
     "output_type": "stream",
     "text": [
      "[Stage 347:>                                                        (0 + 1) / 1]\r"
     ]
    },
    {
     "name": "stdout",
     "output_type": "stream",
     "text": [
      "+--------------------+--------+------------------+\n",
      "|            features|   label|        prediction|\n",
      "+--------------------+--------+------------------+\n",
      "|(17,[0,1,2,3,4,5,...|260000.0|443266.04737020144|\n",
      "|(17,[0,1,2,3,4,5,...|500000.0|1127455.8300462805|\n",
      "|(17,[0,1,2,3,4,5,...|308615.0|111210.49949889386|\n",
      "|(17,[0,1,2,3,4,5,...|279000.0|113587.95787719043|\n",
      "|(17,[0,1,2,3,4,5,...|545000.0|340703.71307873435|\n",
      "|(17,[0,1,2,3,4,5,...|449000.0|390571.99595798284|\n",
      "|(17,[0,1,2,3,4,5,...|479000.0| 444003.4297194885|\n",
      "|(17,[0,1,2,3,4,5,...|420000.0| 720022.1542161054|\n",
      "|(17,[0,1,2,3,4,5,...|265000.0|519406.05037395435|\n",
      "|(17,[0,1,2,3,4,5,...|490000.0| 845483.5388437647|\n",
      "|(17,[0,1,2,3,4,5,...|650000.0| 644931.4982488954|\n",
      "|(17,[0,1,2,3,4,5,...|379900.0| 448889.3339027724|\n",
      "|(17,[0,1,2,3,4,5,...|449000.0| 714548.9501108339|\n",
      "|(17,[0,1,2,3,4,5,...|190000.0| 411726.9411630478|\n",
      "|(17,[0,1,2,3,4,5,...|896000.0| 597499.4601552959|\n",
      "|(17,[0,1,2,3,4,5,...|679000.0| 864544.0129262989|\n",
      "|(17,[0,1,2,3,4,5,...|620000.0| 462766.7203440106|\n",
      "|(17,[0,1,2,3,4,5,...|727000.0|419082.43132300966|\n",
      "|(17,[0,1,2,3,4,5,...|880000.0| 742962.4865669494|\n",
      "|(17,[0,1,2,3,4,5,...|435000.0| 357556.2432515231|\n",
      "+--------------------+--------+------------------+\n",
      "only showing top 20 rows\n",
      "\n"
     ]
    },
    {
     "name": "stderr",
     "output_type": "stream",
     "text": [
      "\r",
      "                                                                                \r"
     ]
    }
   ],
   "source": [
    "pred_treino.show()"
   ]
  },
  {
   "cell_type": "code",
   "execution_count": 206,
   "id": "65dbe86a",
   "metadata": {},
   "outputs": [],
   "source": [
    "metricas = model.summary"
   ]
  },
  {
   "cell_type": "code",
   "execution_count": 207,
   "id": "1e5d0445",
   "metadata": {},
   "outputs": [
    {
     "data": {
      "text/plain": [
       "0.6655873678454578"
      ]
     },
     "execution_count": 207,
     "metadata": {},
     "output_type": "execute_result"
    }
   ],
   "source": [
    "metricas.r2"
   ]
  },
  {
   "cell_type": "code",
   "execution_count": 209,
   "id": "3f1aa46d",
   "metadata": {},
   "outputs": [
    {
     "data": {
      "text/plain": [
       "810348.969531623"
      ]
     },
     "execution_count": 209,
     "metadata": {},
     "output_type": "execute_result"
    }
   ],
   "source": [
    "metricas.rootMeanSquaredError"
   ]
  },
  {
   "cell_type": "code",
   "execution_count": 211,
   "id": "198c21a8",
   "metadata": {},
   "outputs": [
    {
     "name": "stderr",
     "output_type": "stream",
     "text": [
      "                                                                                \r"
     ]
    }
   ],
   "source": [
    "pred_teste = model.evaluate(teste)"
   ]
  },
  {
   "cell_type": "code",
   "execution_count": 213,
   "id": "607b4271",
   "metadata": {},
   "outputs": [],
   "source": [
    "pred_teste = model.transform(teste)"
   ]
  },
  {
   "cell_type": "code",
   "execution_count": 215,
   "id": "8de9a813",
   "metadata": {},
   "outputs": [
    {
     "name": "stderr",
     "output_type": "stream",
     "text": [
      "[Stage 388:>                                                        (0 + 1) / 1]\r"
     ]
    },
    {
     "name": "stdout",
     "output_type": "stream",
     "text": [
      "+--------------------+---------+------------------+\n",
      "|            features|    label|        prediction|\n",
      "+--------------------+---------+------------------+\n",
      "|(17,[0,1,2,3,4,5,...| 199000.0|227422.40734194184|\n",
      "|(17,[0,1,2,3,4,5,...| 350000.0|  621930.066529243|\n",
      "|(17,[0,1,2,3,4,5,...| 340000.0| 512863.9734519677|\n",
      "|(17,[0,1,2,3,4,5,...| 430000.0| 460989.0284421368|\n",
      "|(17,[0,1,2,3,4,5,...| 600000.0| 801303.1592107594|\n",
      "|(17,[0,1,2,3,4,5,...| 439000.0| 542586.7579518605|\n",
      "|(17,[0,1,2,3,4,5,...| 333000.0| 338053.7691319989|\n",
      "|(17,[0,1,2,3,4,5,...| 948000.0| 605903.7629056785|\n",
      "|(17,[0,1,2,3,4,5,...| 459600.0|354492.28427023103|\n",
      "|(17,[0,1,2,3,4,5,...| 447600.0| 367174.6814204048|\n",
      "|(17,[0,1,2,3,4,5,...| 360000.0| 337588.0654157946|\n",
      "|(17,[0,1,2,3,4,5,...| 407000.0|470257.34619933215|\n",
      "|(17,[0,1,2,3,4,5,...| 310000.0| 365084.2606069009|\n",
      "|(17,[0,1,2,3,4,5,...|1400000.0|1891598.1230043916|\n",
      "|(17,[0,1,2,3,4,5,...|1180000.0|1867005.5681337847|\n",
      "|(17,[0,1,2,3,4,5,...|1299500.0|1528072.6853588459|\n",
      "|(17,[0,1,2,3,4,5,...| 296100.0|216661.61131490394|\n",
      "|(17,[0,1,2,3,4,5,...| 285000.0|290966.62241704995|\n",
      "|(17,[0,1,2,3,4,5,...| 679720.0| 504937.9038389516|\n",
      "|(17,[0,1,2,3,4,5,...| 509150.0|  441678.787477348|\n",
      "+--------------------+---------+------------------+\n",
      "only showing top 20 rows\n",
      "\n"
     ]
    },
    {
     "name": "stderr",
     "output_type": "stream",
     "text": [
      "\r",
      "                                                                                \r"
     ]
    }
   ],
   "source": [
    "pred_teste.show()"
   ]
  },
  {
   "cell_type": "code",
   "execution_count": 218,
   "id": "d5671191",
   "metadata": {},
   "outputs": [
    {
     "name": "stderr",
     "output_type": "stream",
     "text": [
      "                                                                                \r"
     ]
    }
   ],
   "source": [
    "pred_teste_netricas = model.evaluate(teste)"
   ]
  },
  {
   "cell_type": "code",
   "execution_count": 220,
   "id": "67f285c9",
   "metadata": {},
   "outputs": [
    {
     "data": {
      "text/plain": [
       "0.6585207937774393"
      ]
     },
     "execution_count": 220,
     "metadata": {},
     "output_type": "execute_result"
    }
   ],
   "source": [
    "pred_teste_netricas.r2"
   ]
  },
  {
   "cell_type": "code",
   "execution_count": 219,
   "id": "f0d5081f",
   "metadata": {},
   "outputs": [
    {
     "data": {
      "text/plain": [
       "800525.9696828632"
      ]
     },
     "execution_count": 219,
     "metadata": {},
     "output_type": "execute_result"
    }
   ],
   "source": [
    "pred_teste_netricas.rootMeanSquaredError"
   ]
  },
  {
   "attachments": {
    "image-2.png": {
     "image/png": "[encoded data removed]"
    },
    "image.png": {
     "image/png": "[encoded data removed]"
    }
   },
   "cell_type": "markdown",
   "id": "31f9f48f",
   "metadata": {},
   "source": [
    "![image-2.png](attachment:image-2.png)![image.png](attachment:image.png)"
   ]
  },
  {
   "attachments": {
    "image.png": {
     "image/png": "[encoded data removed]"
    }
   },
   "cell_type": "markdown",
   "id": "3ec2e9d4",
   "metadata": {},
   "source": [
    "![image.png](attachment:image.png)"
   ]
  },
  {
   "cell_type": "code",
   "execution_count": null,
   "id": "f666f8fa",
   "metadata": {},
   "outputs": [],
   "source": []
  }
 ],
 "metadata": {
  "kernelspec": {
   "display_name": "Python 3 (ipykernel)",
   "language": "python",
   "name": "python3"
  },
  "language_info": {
   "codemirror_mode": {
    "name": "ipython",
    "version": 3
   },
   "file_extension": ".py",
   "mimetype": "text/x-python",
   "name": "python",
   "nbconvert_exporter": "python",
   "pygments_lexer": "ipython3",
   "version": "3.10.6"
  }
 },
 "nbformat": 4,
 "nbformat_minor": 5
}
